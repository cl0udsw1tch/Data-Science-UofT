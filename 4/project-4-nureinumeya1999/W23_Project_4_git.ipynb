{
  "cells": [
    {
      "cell_type": "markdown",
      "metadata": {
        "id": "OTpnyUEJrAjE"
      },
      "source": [
        "# Project 4, Git Practice, APS1070 Winter 2023\n",
        "#### **Linear Regression -  15 points**\n",
        "**Deadline: April 3rd, 23:00**\n",
        "\n",
        "**Academic Integrity**\n",
        "\n",
        "This project is individual - it is to be completed on your own. If you have questions, please post your query in the APS1070 Piazza Q&A forums (the answer might be useful to others!).\n",
        "\n",
        "Do not share your code with others, or post your work online. Do not submit code that you have not written yourself. Students suspected of plagiarism on a project, midterm or exam will be referred to the department for formal discipline for breaches of the Student Code of Conduct."
      ]
    },
    {
      "attachments": {},
      "cell_type": "markdown",
      "metadata": {
        "id": "fUdJ6xw3rJIG"
      },
      "source": [
        "Please fill out the following:\n",
        "\n",
        "\n",
        "*   Your **name**: \n",
        "*   Your **student number**: \n",
        "\n"
      ]
    },
    {
      "cell_type": "markdown",
      "metadata": {
        "id": "sy0M4UZZNEk2"
      },
      "source": [
        "## Gradient Descent with Additional Features and Regularization [2 marks + 1 mark Git submission]\n",
        "\n",
        "We'll apply linear regresssion to a toy dataset (`LR_data.csv`), with 10 features `x1`-`x10` and a \"measurement\" `y`. We'll take a few shortcuts by using built-in sklearn functions.\n",
        "\n",
        "1. Data Preparation **[0.5]**\n",
        "  * Print the dataset, and create Numpy arrays with inputs (X) and outputs (y). \n",
        "  * Split the dataset into training and validation sets (80% training, 20% validation). When splitting, set `random_state=1`.\n",
        "\n",
        "2. Linear Regression **[0.5]**\n",
        "  * Standardize the data using StandardScaler from sklearn.\n",
        "  * Use the `sklearn.linear_model.LinearRegression` function [here](https://scikit-learn.org/stable/modules/generated/sklearn.linear_model.LinearRegression.html) to perform linear regression.\n",
        "  * Print the RMSE for training and validation data.\n",
        "\n",
        "3. Linear Regression with Additional Features **[0.5]**\n",
        "  * Let's add more features to our dataset (degree 8) using `sklearn.preprocessing.PolynomialFeatures` [here](https://scikit-learn.org/stable/modules/generated/sklearn.preprocessing.PolynomialFeatures.html). You'll want to create the additional features first, then perform standardization (start from non-standardized data).\n",
        "  * Again, use `sklearn.linear_model.LinearRegression` to perform linear regression.\n",
        "  * Print the RMSE for training and validation data.\n",
        "\n",
        "4. Linear Regression with Additional Features and Regularization **[0.5]**\n",
        "  * Let's switch models, and instead use the `sklearn.linear_model.Ridge` function [here](https://scikit-learn.org/stable/modules/generated/sklearn.linear_model.Ridge.html#sklearn.linear_model.Ridge) to perform linear regression with regularization. Apply the model to the processed data (additional, standardized) you used in 3 above. Use a `FOR` loop to run `sklearn.linear_model.Ridge` with different `alpha` values. Specifically, sweep `alpha` from 1E-2 to 1E10 (each step is an order of magnitude jump)."
      ]
    },
    {
      "cell_type": "code",
      "execution_count": 1,
      "metadata": {
        "id": "6ZKR243TOERR"
      },
      "outputs": [],
      "source": [
        "import pandas as pd\n",
        "df=pd.read_csv(\"https://raw.githubusercontent.com/APS1070-W23/datasets/main/LR_data.csv\" , skipinitialspace=True)"
      ]
    },
    {
      "cell_type": "code",
      "execution_count": 4,
      "metadata": {},
      "outputs": [
        {
          "data": {
            "text/html": [
              "<div>\n",
              "<style scoped>\n",
              "    .dataframe tbody tr th:only-of-type {\n",
              "        vertical-align: middle;\n",
              "    }\n",
              "\n",
              "    .dataframe tbody tr th {\n",
              "        vertical-align: top;\n",
              "    }\n",
              "\n",
              "    .dataframe thead th {\n",
              "        text-align: right;\n",
              "    }\n",
              "</style>\n",
              "<table border=\"1\" class=\"dataframe\">\n",
              "  <thead>\n",
              "    <tr style=\"text-align: right;\">\n",
              "      <th></th>\n",
              "      <th>x1</th>\n",
              "      <th>x2</th>\n",
              "      <th>x3</th>\n",
              "      <th>x4</th>\n",
              "      <th>x5</th>\n",
              "      <th>x6</th>\n",
              "      <th>x7</th>\n",
              "      <th>x8</th>\n",
              "      <th>x9</th>\n",
              "      <th>x10</th>\n",
              "      <th>y</th>\n",
              "    </tr>\n",
              "  </thead>\n",
              "  <tbody>\n",
              "    <tr>\n",
              "      <th>0</th>\n",
              "      <td>1.454481</td>\n",
              "      <td>4.940543</td>\n",
              "      <td>7.116015</td>\n",
              "      <td>3.805131</td>\n",
              "      <td>4.105432</td>\n",
              "      <td>1.832290</td>\n",
              "      <td>5.211909</td>\n",
              "      <td>5.088293</td>\n",
              "      <td>3.841250</td>\n",
              "      <td>6.121133</td>\n",
              "      <td>6.575066e+06</td>\n",
              "    </tr>\n",
              "    <tr>\n",
              "      <th>1</th>\n",
              "      <td>4.907182</td>\n",
              "      <td>1.653654</td>\n",
              "      <td>7.339445</td>\n",
              "      <td>9.065282</td>\n",
              "      <td>7.169233</td>\n",
              "      <td>2.354136</td>\n",
              "      <td>2.893005</td>\n",
              "      <td>8.720131</td>\n",
              "      <td>8.646473</td>\n",
              "      <td>3.806860</td>\n",
              "      <td>8.419881e+06</td>\n",
              "    </tr>\n",
              "    <tr>\n",
              "      <th>2</th>\n",
              "      <td>1.842804</td>\n",
              "      <td>1.183878</td>\n",
              "      <td>4.203206</td>\n",
              "      <td>6.815847</td>\n",
              "      <td>6.655899</td>\n",
              "      <td>8.295816</td>\n",
              "      <td>3.556779</td>\n",
              "      <td>5.794679</td>\n",
              "      <td>3.260723</td>\n",
              "      <td>5.463808</td>\n",
              "      <td>9.745537e+04</td>\n",
              "    </tr>\n",
              "    <tr>\n",
              "      <th>3</th>\n",
              "      <td>2.393457</td>\n",
              "      <td>0.094127</td>\n",
              "      <td>3.208929</td>\n",
              "      <td>0.497443</td>\n",
              "      <td>4.318127</td>\n",
              "      <td>4.999247</td>\n",
              "      <td>9.470238</td>\n",
              "      <td>3.061990</td>\n",
              "      <td>7.312995</td>\n",
              "      <td>5.475240</td>\n",
              "      <td>1.129200e+04</td>\n",
              "    </tr>\n",
              "    <tr>\n",
              "      <th>4</th>\n",
              "      <td>5.093724</td>\n",
              "      <td>3.905293</td>\n",
              "      <td>4.858562</td>\n",
              "      <td>4.465484</td>\n",
              "      <td>0.947091</td>\n",
              "      <td>9.410307</td>\n",
              "      <td>8.137329</td>\n",
              "      <td>9.043838</td>\n",
              "      <td>9.128607</td>\n",
              "      <td>0.790795</td>\n",
              "      <td>3.105448e+05</td>\n",
              "    </tr>\n",
              "  </tbody>\n",
              "</table>\n",
              "</div>"
            ],
            "text/plain": [
              "         x1        x2        x3        x4        x5        x6        x7  \\\n",
              "0  1.454481  4.940543  7.116015  3.805131  4.105432  1.832290  5.211909   \n",
              "1  4.907182  1.653654  7.339445  9.065282  7.169233  2.354136  2.893005   \n",
              "2  1.842804  1.183878  4.203206  6.815847  6.655899  8.295816  3.556779   \n",
              "3  2.393457  0.094127  3.208929  0.497443  4.318127  4.999247  9.470238   \n",
              "4  5.093724  3.905293  4.858562  4.465484  0.947091  9.410307  8.137329   \n",
              "\n",
              "         x8        x9       x10             y  \n",
              "0  5.088293  3.841250  6.121133  6.575066e+06  \n",
              "1  8.720131  8.646473  3.806860  8.419881e+06  \n",
              "2  5.794679  3.260723  5.463808  9.745537e+04  \n",
              "3  3.061990  7.312995  5.475240  1.129200e+04  \n",
              "4  9.043838  9.128607  0.790795  3.105448e+05  "
            ]
          },
          "execution_count": 4,
          "metadata": {},
          "output_type": "execute_result"
        }
      ],
      "source": [
        "df.head()"
      ]
    },
    {
      "cell_type": "code",
      "execution_count": 16,
      "metadata": {},
      "outputs": [],
      "source": [
        "from sklearn.model_selection import train_test_split\n",
        "from sklearn.linear_model import LinearRegression, Ridge\n",
        "from sklearn.preprocessing import PolynomialFeatures, StandardScaler\n",
        "from sklearn.metrics import mean_squared_error\n",
        "\n",
        "X, y = df.iloc[:, 0:-1], df.iloc[:, [-1]]\n",
        "X_train, X_val, y_train, y_val = train_test_split(X, y, test_size=0.2, random_state=1)\n"
      ]
    },
    {
      "cell_type": "code",
      "execution_count": 19,
      "metadata": {},
      "outputs": [
        {
          "name": "stdout",
          "output_type": "stream",
          "text": [
            "Train RMSE: 16296980.655667374, Val RMSE: 14061578.864980098\n"
          ]
        }
      ],
      "source": [
        "scaler = StandardScaler()\n",
        "scaler.fit(X_train)\n",
        "X_train_std = scaler.transform(X_train)\n",
        "X_val_std = scaler.transform(X_val)\n",
        "\n",
        "reg = LinearRegression().fit(X_train_std, y_train)\n",
        "train_RMSE, val_RMSE = mean_squared_error(y_true=y_train, y_pred=reg.predict(X_train_std), squared=False),\\\n",
        "                        mean_squared_error(y_true=y_val, y_pred=reg.predict(X_val_std), squared=False)\n",
        "print(f\"Train RMSE: {train_RMSE}, Val RMSE: {val_RMSE}\")"
      ]
    },
    {
      "cell_type": "code",
      "execution_count": 22,
      "metadata": {},
      "outputs": [
        {
          "name": "stdout",
          "output_type": "stream",
          "text": [
            "Train RMSE: 26316092.80439178, Val RMSE: 20132006.14784744\n"
          ]
        }
      ],
      "source": [
        "poly = PolynomialFeatures(8).fit(X_train)\n",
        "\n",
        "X_train_poly = poly.transform(X_train)\n",
        "X_val_poly = poly.transform(X_val)\n",
        "\n",
        "scaler = StandardScaler()\n",
        "scaler.fit(X_train_poly)\n",
        "\n",
        "X_train_std = scaler.transform(X_train_poly)\n",
        "X_val_std = scaler.transform(X_val_poly)\n",
        "reg = LinearRegression().fit(X_train_poly, y_train)\n",
        "\n",
        "train_RMSE, val_RMSE = mean_squared_error(y_true=y_train, y_pred=reg.predict(X_train_std), squared=False),\\\n",
        "                        mean_squared_error(y_true=y_val, y_pred=reg.predict(X_val_std), squared=False)\n",
        "print(f\"Train RMSE: {train_RMSE}, Val RMSE: {val_RMSE}\")"
      ]
    },
    {
      "cell_type": "code",
      "execution_count": 24,
      "metadata": {},
      "outputs": [
        {
          "name": "stdout",
          "output_type": "stream",
          "text": [
            "Alpha: 0.1353352832366127, Train RMSE: 4324.176485365214, Val RMSE: 10914872.64174532\n",
            "Alpha: 0.36787944117144233, Train RMSE: 11654.800345135207, Val RMSE: 10906458.774075704\n",
            "Alpha: 1.0, Train RMSE: 30988.51834170069, Val RMSE: 10884651.01882923\n",
            "Alpha: 2.718281828459045, Train RMSE: 79819.94682916359, Val RMSE: 10831562.794999646\n",
            "Alpha: 7.38905609893065, Train RMSE: 193213.95487752138, Val RMSE: 10714759.106308986\n",
            "Alpha: 20.085536923187668, Train RMSE: 424911.93913433724, Val RMSE: 10481152.534228744\n",
            "Alpha: 54.598150033144236, Train RMSE: 833849.7858767895, Val RMSE: 10008718.947734348\n",
            "Alpha: 148.4131591025766, Train RMSE: 1494348.3918828808, Val RMSE: 8999256.983350439\n",
            "Alpha: 403.4287934927351, Train RMSE: 2485523.083051952, Val RMSE: 7299332.914863388\n",
            "Alpha: 1096.6331584284585, Train RMSE: 3730498.2318070703, Val RMSE: 5484517.394981872\n",
            "Alpha: 2980.9579870417283, Train RMSE: 5172579.601969049, Val RMSE: 4307240.388225248\n",
            "Alpha: 8103.083927575384, Train RMSE: 7176331.8600892825, Val RMSE: 4295594.162389437\n",
            "Alpha: 22026.465794806718, Train RMSE: 10040394.266997274, Val RMSE: 6107126.226142483\n"
          ]
        }
      ],
      "source": [
        "import math\n",
        "poly = PolynomialFeatures(8).fit(X_train)\n",
        "\n",
        "X_train_poly = poly.transform(X_train)\n",
        "X_val_poly = poly.transform(X_val)\n",
        "\n",
        "scaler = StandardScaler()\n",
        "scaler.fit(X_train_poly)\n",
        "\n",
        "X_train_std = scaler.transform(X_train_poly)\n",
        "X_val_std = scaler.transform(X_val_poly)\n",
        "reg = LinearRegression().fit(X_train_poly, y_train)\n",
        "\n",
        "for pow in range(-2, 11):\n",
        "    clf = Ridge(alpha=math.exp(pow))\n",
        "    clf.fit(X_train_std, y_train)\n",
        "    train_RMSE, val_RMSE = mean_squared_error(y_true=y_train, y_pred=clf.predict(X_train_std), squared=False),\\\n",
        "                            mean_squared_error(y_true=y_val, y_pred=clf.predict(X_val_std), squared=False)\n",
        "    print(f\"Alpha: {math.exp(pow)}, Train RMSE: {train_RMSE}, Val RMSE: {val_RMSE}\")"
      ]
    }
  ],
  "metadata": {
    "colab": {
      "provenance": []
    },
    "kernelspec": {
      "display_name": "Python 3",
      "language": "python",
      "name": "python3"
    },
    "language_info": {
      "codemirror_mode": {
        "name": "ipython",
        "version": 3
      },
      "file_extension": ".py",
      "mimetype": "text/x-python",
      "name": "python",
      "nbconvert_exporter": "python",
      "pygments_lexer": "ipython3",
      "version": "3.11.0"
    }
  },
  "nbformat": 4,
  "nbformat_minor": 0
}
